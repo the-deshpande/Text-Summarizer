{
 "cells": [
  {
   "cell_type": "code",
   "execution_count": 5,
   "metadata": {},
   "outputs": [
    {
     "name": "stderr",
     "output_type": "stream",
     "text": [
      "[nltk_data] Downloading package punkt to\n",
      "[nltk_data]     C:\\Users\\KIIT\\AppData\\Roaming\\nltk_data...\n",
      "[nltk_data]   Package punkt is already up-to-date!\n",
      "[nltk_data] Downloading package stopwords to\n",
      "[nltk_data]     C:\\Users\\KIIT\\AppData\\Roaming\\nltk_data...\n",
      "[nltk_data]   Package stopwords is already up-to-date!\n"
     ]
    }
   ],
   "source": [
    "import re #regular expression\n",
    "import nltk #natural language toolkil\n",
    "nltk.download('punkt')\n",
    "nltk.download('stopwords')\n",
    "import string\n",
    "import numpy as np\n",
    "import heapq\n",
    "import networkx as nx\n",
    "from nltk.cluster.util import cosine_distance\n",
    "from goose3 import Goose"
   ]
  },
  {
   "cell_type": "code",
   "execution_count": 6,
   "metadata": {},
   "outputs": [],
   "source": [
    "def preprocess(text):\n",
    "    formatted_text = text.lower()\n",
    "    tokens = []\n",
    "    stopwords = nltk.corpus.stopwords.words('english')\n",
    "    for token in nltk.word_tokenize(formatted_text):\n",
    "        if token not in stopwords and token not in string.punctuation:\n",
    "            tokens.append(token)\n",
    "    # print(tokens)\n",
    "    formatted_text = ' '.join(tokens)\n",
    "    return formatted_text"
   ]
  },
  {
   "cell_type": "markdown",
   "metadata": {},
   "source": [
    "Frequency Algorithm"
   ]
  },
  {
   "cell_type": "code",
   "execution_count": 7,
   "metadata": {},
   "outputs": [],
   "source": [
    "def summarize_freq(original_text,ratio):\n",
    "    formatted_text = preprocess(original_text)\n",
    "    word_frequency = nltk.FreqDist(nltk.word_tokenize(formatted_text))\n",
    "    max_freq = max(word_frequency.values())\n",
    "    for word in word_frequency.keys():\n",
    "        word_frequency[word] /=max_freq\n",
    "    sentence_list = nltk.sent_tokenize(original_text)\n",
    "    score_sentence = {}\n",
    "    for sentence in sentence_list:\n",
    "        # print(sentence)\n",
    "        count=0\n",
    "        for word in nltk.word_tokenize(sentence.lower()):\n",
    "            if word in word_frequency.keys():\n",
    "                count+=word_frequency[word]\n",
    "        score_sentence[sentence]=count\n",
    "        \n",
    "    import heapq\n",
    "    best_sentences = heapq.nlargest(int(len(sentence_list)*ratio),score_sentence,key = score_sentence.get)\n",
    "    return sentence_list,best_sentences,score_sentence"
   ]
  },
  {
   "cell_type": "markdown",
   "metadata": {},
   "source": [
    "Luhn Algorithm"
   ]
  },
  {
   "cell_type": "code",
   "execution_count": 8,
   "metadata": {},
   "outputs": [],
   "source": [
    "def calculate_sentences_score(sentences,important_words,distance):\n",
    "    scores = []\n",
    "    sentence_index = 0\n",
    "    for sentence in [nltk.word_tokenize(sentence) for sentence in sentences]:\n",
    "        word_index = []\n",
    "        for word in important_words:\n",
    "            try:\n",
    "                word_index.append(sentence.index(word))\n",
    "            except ValueError:\n",
    "                pass\n",
    "        if len(word_index) == 0:\n",
    "            continue\n",
    "        word_index.sort()\n",
    "        groups_list = []\n",
    "        group = [word_index[0]]\n",
    "        i = 1 # 3\n",
    "        while i < len(word_index): # 3\n",
    "            if word_index[i] - word_index[i - 1] < distance:\n",
    "                group.append(word_index[i])\n",
    "            else:\n",
    "                groups_list.append(group[:])\n",
    "                group = [word_index[i]]\n",
    "            i += 1\n",
    "        groups_list.append(group)\n",
    "        max_group_score = 0\n",
    "        for g in groups_list:\n",
    "            important_words_in_group = len(g)\n",
    "            total_words_in_group = g[-1] - g[0] + 1\n",
    "            score = 1.0 * important_words_in_group**2 / total_words_in_group\n",
    "            if score > max_group_score:\n",
    "                max_group_score = score\n",
    "        scores.append((max_group_score, sentence_index))\n",
    "        sentence_index += 1\n",
    "    return scores"
   ]
  },
  {
   "cell_type": "code",
   "execution_count": 9,
   "metadata": {},
   "outputs": [],
   "source": [
    "def summarize_luhn(text,distance,top_n_words,number_of_sentences,ratio):\n",
    "    original_sentences = [sentence for sentence in nltk.sent_tokenize(text)]\n",
    "    formatted_sentences= [preprocess(original_sentence) for original_sentence in original_sentences]\n",
    "    words = [word for sentence in formatted_sentences for word in nltk.word_tokenize(sentence)]\n",
    "    freq_words = nltk.FreqDist(words)\n",
    "    top_n_words = [word[0] for word in freq_words.most_common(top_n_words)]\n",
    "    sentences_score = calculate_sentences_score(formatted_sentences,top_n_words,distance)\n",
    "    if ratio>0:\n",
    "        best_sentences = heapq.nlargest(int(len(formatted_sentences)*ratio),sentences_score)\n",
    "    else:\n",
    "        best_sentences = heapq.nlargest(number_of_sentences,sentences_score)\n",
    "    best_sentences = [original_sentences[i] for (score,i) in best_sentences]\n",
    "    return original_sentences, best_sentences, sentences_score"
   ]
  },
  {
   "cell_type": "markdown",
   "metadata": {},
   "source": [
    "Cosine Similarity"
   ]
  },
  {
   "cell_type": "code",
   "execution_count": 10,
   "metadata": {},
   "outputs": [],
   "source": [
    "def calculate_sentence_similarity(sentence1, sentence2):\n",
    "    words1 = [word for word in nltk.word_tokenize(sentence1)]\n",
    "    words2 = [word for word in nltk.word_tokenize(sentence2)]\n",
    "    all_words = list(set(words1 + words2))\n",
    "    vector1 = [0] * len(all_words)\n",
    "    vector2 = [0] * len(all_words)\n",
    "    for word in words1: # Bag of words\n",
    "        vector1[all_words.index(word)] += 1\n",
    "    for word in words2:\n",
    "        vector2[all_words.index(word)] += 1\n",
    "    return 1 - cosine_distance(vector1, vector2)"
   ]
  },
  {
   "cell_type": "code",
   "execution_count": 11,
   "metadata": {},
   "outputs": [],
   "source": [
    "def calculate_similarity_matrix(sentences):\n",
    "    similarity_matrix = np.zeros((len(sentences), len(sentences)))\n",
    "    #print(similarity_matrix)\n",
    "    for i in range(len(sentences)):\n",
    "        for j in range(len(sentences)):\n",
    "            if i == j:\n",
    "                continue\n",
    "            similarity_matrix[i][j] = calculate_sentence_similarity(sentences[i], sentences[j])\n",
    "    return similarity_matrix"
   ]
  },
  {
   "cell_type": "code",
   "execution_count": 12,
   "metadata": {},
   "outputs": [],
   "source": [
    "def summarize_cosine(text, number_of_sentences, percentage = 0):\n",
    "    original_sentences = [sentence for sentence in nltk.sent_tokenize(text)]\n",
    "    formatted_sentences = [preprocess(original_sentence) for original_sentence in original_sentences]\n",
    "    similarity_matrix = calculate_similarity_matrix(formatted_sentences)\n",
    "    similarity_graph = nx.from_numpy_array(similarity_matrix)\n",
    "    scores = nx.pagerank(similarity_graph)\n",
    "    ordered_scores = sorted(((scores[i], score) for i, score in enumerate(original_sentences)), reverse=True)\n",
    "    if percentage > 0:\n",
    "        number_of_sentences = int(len(formatted_sentences) * percentage)\n",
    "    best_sentences = []\n",
    "    for sentence in range(number_of_sentences):\n",
    "        best_sentences.append(ordered_scores[sentence][1])\n",
    "    return original_sentences, best_sentences, ordered_scores"
   ]
  },
  {
   "cell_type": "markdown",
   "metadata": {},
   "source": [
    "Visualise"
   ]
  },
  {
   "cell_type": "code",
   "execution_count": 26,
   "metadata": {},
   "outputs": [],
   "source": [
    "def visualse(title, sentence_list,best_sentences):\n",
    "    from IPython.core.display import HTML\n",
    "    text = ''\n",
    "    display(HTML(f'<h1>Summary - {title}</h1>'))\n",
    "    for sentence in sentence_list:\n",
    "        if sentence in best_sentences:\n",
    "        #     text += ' '+sentence.replace(sentence,f\"<mark>{sentence}</mark>\")\n",
    "        # else:\n",
    "            text += sentence\n",
    "    display(HTML(f\"\"\"{text}\"\"\"))"
   ]
  },
  {
   "cell_type": "code",
   "execution_count": null,
   "metadata": {},
   "outputs": [],
   "source": [
    "def open_link(url):\n",
    "    g = Goose()\n",
    "    article = g.extract(url)\n",
    "    return article.cleaned_text"
   ]
  },
  {
   "cell_type": "code",
   "execution_count": 14,
   "metadata": {},
   "outputs": [],
   "source": [
    "g = Goose()"
   ]
  },
  {
   "cell_type": "code",
   "execution_count": 15,
   "metadata": {},
   "outputs": [],
   "source": [
    "url = 'https://en.wikipedia.org/wiki/Malware'\n",
    "ratio = 0.20"
   ]
  },
  {
   "cell_type": "code",
   "execution_count": 27,
   "metadata": {},
   "outputs": [
    {
     "data": {
      "text/html": [
       "<h1>Summary - Malware - Wikipedia</h1>"
      ],
      "text/plain": [
       "<IPython.core.display.HTML object>"
      ]
     },
     "metadata": {},
     "output_type": "display_data"
    },
    {
     "data": {
      "text/html": [
       "Malware (a portmanteau for malicious software)[1] is any software intentionally designed to cause disruption to a computer, server, client, or computer network, leak private information, gain unauthorized access to information or systems, deprive access to information, or which unknowingly interferes with the user's computer security and privacy.computer viruses, worms, Trojan horses, ransomware, spyware, adware, rogue software, wiper and keyloggers).[6][7] According to Symantec's 2018 Internet Security Threat Report (ISTR), malware variants number has increased to 669,947,865 in 2017, which is twice as many malware variants as in 2016.[8] Cybercrime, which includes malware attacks as well as other crimes committed by computer, was predicted to cost the world economy $6 trillion USD in 2021, and is increasing at a rate of 15% per year.[9] Since 2021, malware has been designed to target computer systems that run critical infrastructure such as the electricity distribution network.[10]\n",
       "\n",
       "The defense strategies against malware differ according to the type of malware but most can be thwarted by installing antivirus software, firewalls, applying regular patches to reduce zero-day attacks, securing networks from intrusion, having regular backups and isolating infected systems.Malware is now being designed to evade antivirus software detection algorithms.Fred Cohen experimented with computer viruses and confirmed Neumann's postulate and investigated other properties of malware such as detectability and self-obfuscation using rudimentary encryption.The 2018 Data Breach Investigations Report by Verizon, cited by CSO Online, states that emails are the primary method of malware delivery, accounting for 96% of malware delivery around the world.[31][32]\n",
       "\n",
       "There are many possible ways of categorizing malware and some malicious software may overlap into two or more categories.[1] Broadly, software can categorised into three types:[33] (i) goodware; (ii) greyware and (iii) malware.A computer virus is software usually hidden within another seemingly innocuous program that can produce copies of itself and insert them into other programs or files, and that usually performs a harmful action (such as destroying data).[3] An example of this is a portable execution infection, a technique, usually used to spread malware, that inserts extra data or executable code into PE files.[35] A computer virus is software that embeds itself in some other executable software (including the operating system itself) on the target system without the user's knowledge and consent and when it is run, the virus is spread to other executable files.A worm is a stand-alone malware software that actively transmits itself over a network to infect other computers and can copy itself without infecting files.These definitions lead to the observation that a virus requires the user to run an infected software or operating system for the virus to spread, whereas a worm spreads itself.Software packages known as rootkits allow this concealment, by modifying the host's operating system so that the malware is hidden from the user.An early example of this behavior is recorded in the Jargon File tale of a pair of programs infesting a Xerox CP-V time sharing system:\n",
       "\n",
       "A backdoor is a computer program that allows an attacker to gain unauthorised remote access to a victim's machine often without their knowledge.A backdoor can also be a side effect of a software bug in legitimate software that is exploited by an attacker to gain access to a victim's computer or network.It was reported in 2014 that US government agencies had been diverting computers purchased by those considered \"targets\" to secret workshops where software or hardware permitting remote access by the agency was installed, considered to be among the most productive operations to obtain access to networks around the world.Although their payload can be anything, many modern forms act as a backdoor, contacting a controller (phoning home) which can then have unauthorized access to the affected computer, potentially installing additional software such as a keylogger to steal confidential information, cryptomining software or adware to generate revenue to the operator of the trojan.[45] While Trojan horses and backdoors are not easily detectable by themselves, computers may appear to run slower, emit more heat or fan noise due to heavy processor or network usage, as may occur when cryptomining software is installed.[51]\n",
       "\n",
       "Some malware is used to generate money by click fraud, making it appear that the computer user has clicked an advertising link on a site, generating a payment from the advertiser.[55]\n",
       "\n",
       "Grayware is any unwanted application or file that can worsen the performance of computers and may cause security risks but which there is insufficient consensus or data to classify them as malware.(2012)[58] estimated that as much as 55% of key generators could contain malware and that about 36% malicious key generators were not detected by antivirus software.[56]\n",
       "\n",
       "Antivirus software typically uses two techniques to detect malware: (i) static analysis and (ii) dynamic analysis.Because this approach is not useful for malware that has not yet been studied, antivirus software can use dynamic analysis to monitor how the program runs on a computer and block it if it performs unexpected activity.The aim of any malware is to conceal itself from detection by users or antivirus software.[61] An estimated 33% of malware is not detected by antivirus software.[58]\n",
       "\n",
       "The most common anti-detection mechanism is to encrypt the malware payload so that antivirus software does not recognize the signature.This allows malware to avoid detection by technologies such as signature-based antivirus software by changing the server used by the malware;[62] (3) timing-based evasion.This is when malware runs at certain times or following certain actions taken by the user, so it executes during certain vulnerable periods, such as during the boot process, while remaining dormant the rest of the time; (4) obfuscating internal data so that automated tools do not detect the malware;[64] (v) information hiding techniques, namely stegomalware;[65] and (5) fileless malware which runs within memory instead of using files and utilizes existing system tools to carry out malicious acts.[67][68]\n",
       "\n",
       "A vulnerability is a weakness, flaw or software bug in an application, a complete computer, an operating system, or a computer network that is exploited by malware to bypass defences or gain privileges it requires to run.[69] Malware can exploit security defects (security bugs or vulnerabilities) in the operating system, applications (such as browsers, e.g.[71][72] For example, a common method is exploitation of a buffer overrun vulnerability, where software designed to store data in a specified region of memory does not prevent more data than the buffer can accommodate being supplied.Malware may provide data that overflows the buffer, with malicious executable code or data after the end; when this payload is accessed it does what the attacker, not the legitimate software, determines.[6] Even when new patches addressing the vulnerability have been released, they may not necessarily be installed immediately, allowing malware to take advantage of systems lacking patches.Secunia PSI[74] is an example of software, free for personal use, that will check a PC for vulnerable out-of-date software, and attempt to update it.[76] Apps targeting the Android platform can be a major source of malware infection but one solution is to use third party software to detect apps that have been assigned excessive privileges.Almost all currently popular operating systems, and also many scripting applications allow code too many privileges, usually in the sense that when a user executes code, the system allows that code all rights of that user.A credential attack occurs when a user account with administrative privileges is cracked and that account is used to provide malware with appropriate privileges.For example, when all computers in a network run the same operating system, upon exploiting one, one worm can exploit them all:[81] In particular, Microsoft Windows or Mac OS X have such a large share of the market that an exploited vulnerability concentrating on either operating system could subvert a large number of systems.The Windows Malicious Software Removal Tool removes malicious software from the system.[86][87][88]\n",
       "\n",
       "Typically, antivirus software can combat malware in the following ways:\n",
       "• Real-time protection: They can provide real time protection against the installation of malware software on a computer.This type of malware protection works the same way as that of antivirus protection in that the anti-malware software scans all incoming network data for malware and blocks any threats it comes across.• Removal: Anti-malware software programs can be used solely for detection and removal of malware software that has already been installed onto a computer.This type of anti-malware software scans the contents of the Windows registry, operating system files, and installed programs on a computer and will provide a list of any threats found, allowing the user to choose which files to delete or keep, or to compare this list to a list of known malware components, removing files that match.[90]\n",
       "\n",
       "A specific component of anti-malware software, commonly referred to as an on-access or real-time scanner, hooks deep into the operating system's core or kernel and functions in a manner similar to how certain malware itself would attempt to operate, though with the user's informed permission for protecting the system.[91]\n",
       "\n",
       "Because many malware components are installed as a result of browser exploits or user error, using security software (some of which are anti-malware, though many are not) to \"sandbox\" browsers (essentially isolate the browser from the computer and hence any malware induced change) can also be effective in helping to restrict any damage done.[90]\n",
       "\n",
       "Website vulnerability scans check the website, detect malware, may note outdated software, and may report known security issues, in order to reduce the risk of the site being compromised.As a last resort, computers can be protected from malware, and the risk of infected computers disseminating trusted information can be greatly reduced by imposing an \"air gap\" (i.e.However, malware can still cross the air gap in some situations, not least due to the need to introduce software into the air-gapped network and can damage the availability or integrity of assets thereon."
      ],
      "text/plain": [
       "<IPython.core.display.HTML object>"
      ]
     },
     "metadata": {},
     "output_type": "display_data"
    }
   ],
   "source": [
    "article = g.extract(url)\n",
    "formatted_article = preprocess(article.cleaned_text)\n",
    "sentence_list,best_sentences,score_sentence=summarize_freq(article.cleaned_text,ratio)\n",
    "visualse(article.title,sentence_list,best_sentences)"
   ]
  },
  {
   "cell_type": "code",
   "execution_count": 28,
   "metadata": {},
   "outputs": [],
   "source": [
    "top_n_words = 10\n",
    "distance = 4\n",
    "number_of_sentences = 5\n",
    "ratio = 0.3\n",
    "url = 'https://en.wikipedia.org/wiki/Malware'"
   ]
  },
  {
   "cell_type": "code",
   "execution_count": 29,
   "metadata": {},
   "outputs": [
    {
     "data": {
      "text/html": [
       "<h1>Summary - Malware - Wikipedia</h1>"
      ],
      "text/plain": [
       "<IPython.core.display.HTML object>"
      ]
     },
     "metadata": {},
     "output_type": "display_data"
    },
    {
     "data": {
      "text/html": [
       "[9] Since 2021, malware has been designed to target computer systems that run critical infrastructure such as the electricity distribution network.Unlike a virus, this worm did not insert itself into other programs.Instead, it exploited security holes (vulnerabilities) in network server programs and started itself running as a separate process.These macro viruses infect documents and templates rather than applications (executables), but rely on the fact that macros in a Word document are a form of executable code.[21]\n",
       "\n",
       "Many early infectious programs, including the Morris Worm, the first internet worm, were written as experiments or pranks.[22] Today, malware is used by both black hat hackers and governments to steal personal, financial, or business information.[16]\n",
       "\n",
       "Since the rise of widespread broadband Internet access, malicious software has more frequently been designed for profit.[25] Infected \"zombie computers\" can be used to send email spam, to host contraband data such as child pornography,[26] or to engage in distributed denial-of-service attacks as a form of extortion.[27] Malware is used broadly against government or corporate websites to gather sensitive information,[28] or to disrupt their operation in general.Further, malware can be used against individuals to gain information such as personal identification numbers or details, bank or credit card numbers, and passwords.[29][30]\n",
       "\n",
       "In addition to criminal money-making, malware can be used for sabotage, often for political motives.Stuxnet, for example, was designed to disrupt very specific industrial equipment.There have been politically motivated attacks which spread over and shut down large computer networks, including massive deletion of files and corruption of master boot records, described as \"computer killing.\"Such attacks were made on Sony Pictures Entertainment (25 November 2014, using malware known as Shamoon or W32.Disttrack) and Saudi Aramco (August 2012).A computer virus is software usually hidden within another seemingly innocuous program that can produce copies of itself and insert them into other programs or files, and that usually performs a harmful action (such as destroying data).An early example of this behavior is recorded in the Jargon File tale of a pair of programs infesting a Xerox CP-V time sharing system:\n",
       "\n",
       "A backdoor is a computer program that allows an attacker to gain unauthorised remote access to a victim's machine often without their knowledge.[39] The attacker typically uses another attack (such as a trojan, worm or virus) to bypass authentication mechanisms usually over an unsecured network such as the Internet to install the backdoor application.A backdoor can also be a side effect of a software bug in legitimate software that is exploited by an attacker to gain access to a victim's computer or network.It was reported in 2014 that US government agencies had been diverting computers purchased by those considered \"targets\" to secret workshops where software or hardware permitting remote access by the agency was installed, considered to be among the most productive operations to obtain access to networks around the world.[40] Backdoors may be installed by Trojan horses, worms, implants, or other methods.A Trojan horse usually carries a hidden destructive function that is activated when the application is started.The term is derived from the Ancient Greek story of the Trojan horse used to invade the city of Troy by stealth.[56]\n",
       "\n",
       "Potentially unwanted programs (PUPs) are applications that would be considered unwanted despite often being intentionally downloaded by the user.[56]\n",
       "\n",
       "Antivirus software typically uses two techniques to detect malware: (i) static analysis and (ii) dynamic analysis.Because this approach is not useful for malware that has not yet been studied, antivirus software can use dynamic analysis to monitor how the program runs on a computer and block it if it performs unexpected activity.The first is that it is difficult to determine if software is malicious.[61] An estimated 33% of malware is not detected by antivirus software.[58]\n",
       "\n",
       "The most common anti-detection mechanism is to encrypt the malware payload so that antivirus software does not recognize the signature.[33] More advanced malware is capable of changing its form into variants so they the signatures differ enough to make detection unlikely.Other common techniques used to evade detection include from common to uncommon:[62] (1) evasion of analysis and detection by fingerprinting the environment when executed;[63] (2) confusing automated tools' detection methods.This allows malware to avoid detection by technologies such as signature-based antivirus software by changing the server used by the malware;[62] (3) timing-based evasion.This is when malware runs at certain times or following certain actions taken by the user, so it executes during certain vulnerable periods, such as during the boot process, while remaining dormant the rest of the time; (4) obfuscating internal data so that automated tools do not detect the malware;[64] (v) information hiding techniques, namely stegomalware;[65] and (5) fileless malware which runs within memory instead of using files and utilizes existing system tools to carry out malicious acts.[66] This reduces the amount of forensic artifacts available to analyze.Recently these types of attacks have become more frequent with a 432% increase in 2017 and makeup 35% of the attacks in 2018.Such attacks are not easy to perform but are becoming more prevalent with the help of exploit-kits.[67][68]\n",
       "\n",
       "A vulnerability is a weakness, flaw or software bug in an application, a complete computer, an operating system, or a computer network that is exploited by malware to bypass defences or gain privileges it requires to run.For example, TestDisk 6.4 or earlier contained a vulnerability that allowed attackers to inject code into Windows.[69] Malware can exploit security defects (security bugs or vulnerabilities) in the operating system, applications (such as browsers, e.g.older versions of Microsoft Internet Explorer supported by Windows XP[70]), or in vulnerable versions of browser plugins such as Adobe Flash Player, Adobe Acrobat or Reader, or Java SE.[71][72] For example, a common method is exploitation of a buffer overrun vulnerability, where software designed to store data in a specified region of memory does not prevent more data than the buffer can accommodate being supplied.Malware may provide data that overflows the buffer, with malicious executable code or data after the end; when this payload is accessed it does what the attacker, not the legitimate software, determines.Malware can exploit recently discovered vulnerabilities before developers have had time to release a suitable patch.[6] Even when new patches addressing the vulnerability have been released, they may not necessarily be installed immediately, allowing malware to take advantage of systems lacking patches.Sometimes even applying patches or installing new versions does not automatically uninstall the old versions.Security advisories from plug-in providers announce security-related updates.[73] Common vulnerabilities are assigned CVE IDs and listed in the US National Vulnerability Database.Secunia PSI[74] is an example of software, free for personal use, that will check a PC for vulnerable out-of-date software, and attempt to update it.Other approaches involve using firewalls and intrusion prevention systems to monitor unusual traffic patterns on the local computer network.[75]\n",
       "\n",
       "Users and programs can be assigned more privileges than they require, and malware can take advantage of this.For example, of 940 Android apps sampled, one third of them asked for more privileges than they required.[76] Apps targeting the Android platform can be a major source of malware infection but one solution is to use third party software to detect apps that have been assigned excessive privileges.[77]\n",
       "\n",
       "Some systems allow all users to modify their internal structures, and such users today would be considered over-privileged users."
      ],
      "text/plain": [
       "<IPython.core.display.HTML object>"
      ]
     },
     "metadata": {},
     "output_type": "display_data"
    }
   ],
   "source": [
    "article = g.extract(url)\n",
    "formatted_article = preprocess(article.cleaned_text)\n",
    "sentence_list,best_sentences,score_sentence=summarize_luhn(article.cleaned_text,distance,top_n_words,number_of_sentences,ratio)\n",
    "visualse(article.title,sentence_list,best_sentences)"
   ]
  },
  {
   "cell_type": "code",
   "execution_count": 30,
   "metadata": {},
   "outputs": [
    {
     "data": {
      "text/html": [
       "<h1>Summary - Malware - Wikipedia</h1>"
      ],
      "text/plain": [
       "<IPython.core.display.HTML object>"
      ]
     },
     "metadata": {},
     "output_type": "display_data"
    },
    {
     "data": {
      "text/html": [
       "Malware (a portmanteau for malicious software)[1] is any software intentionally designed to cause disruption to a computer, server, client, or computer network, leak private information, gain unauthorized access to information or systems, deprive access to information, or which unknowingly interferes with the user's computer security and privacy.computer viruses, worms, Trojan horses, ransomware, spyware, adware, rogue software, wiper and keyloggers).[9] Since 2021, malware has been designed to target computer systems that run critical infrastructure such as the electricity distribution network.[10]\n",
       "\n",
       "The defense strategies against malware differ according to the type of malware but most can be thwarted by installing antivirus software, firewalls, applying regular patches to reduce zero-day attacks, securing networks from intrusion, having regular backups and isolating infected systems.Malware is now being designed to evade antivirus software detection algorithms.[31][32]\n",
       "\n",
       "There are many possible ways of categorizing malware and some malicious software may overlap into two or more categories.[1] Broadly, software can categorised into three types:[33] (i) goodware; (ii) greyware and (iii) malware.A computer virus is software usually hidden within another seemingly innocuous program that can produce copies of itself and insert them into other programs or files, and that usually performs a harmful action (such as destroying data).[3] An example of this is a portable execution infection, a technique, usually used to spread malware, that inserts extra data or executable code into PE files.[35] A computer virus is software that embeds itself in some other executable software (including the operating system itself) on the target system without the user's knowledge and consent and when it is run, the virus is spread to other executable files.A worm is a stand-alone malware software that actively transmits itself over a network to infect other computers and can copy itself without infecting files.These definitions lead to the observation that a virus requires the user to run an infected software or operating system for the virus to spread, whereas a worm spreads itself.Software packages known as rootkits allow this concealment, by modifying the host's operating system so that the malware is hidden from the user.A backdoor can also be a side effect of a software bug in legitimate software that is exploited by an attacker to gain access to a victim's computer or network.[56]\n",
       "\n",
       "Antivirus software typically uses two techniques to detect malware: (i) static analysis and (ii) dynamic analysis.Because this approach is not useful for malware that has not yet been studied, antivirus software can use dynamic analysis to monitor how the program runs on a computer and block it if it performs unexpected activity.The aim of any malware is to conceal itself from detection by users or antivirus software.[61] An estimated 33% of malware is not detected by antivirus software.[58]\n",
       "\n",
       "The most common anti-detection mechanism is to encrypt the malware payload so that antivirus software does not recognize the signature.This allows malware to avoid detection by technologies such as signature-based antivirus software by changing the server used by the malware;[62] (3) timing-based evasion.This is when malware runs at certain times or following certain actions taken by the user, so it executes during certain vulnerable periods, such as during the boot process, while remaining dormant the rest of the time; (4) obfuscating internal data so that automated tools do not detect the malware;[64] (v) information hiding techniques, namely stegomalware;[65] and (5) fileless malware which runs within memory instead of using files and utilizes existing system tools to carry out malicious acts.[67][68]\n",
       "\n",
       "A vulnerability is a weakness, flaw or software bug in an application, a complete computer, an operating system, or a computer network that is exploited by malware to bypass defences or gain privileges it requires to run.[69] Malware can exploit security defects (security bugs or vulnerabilities) in the operating system, applications (such as browsers, e.g.Malware may provide data that overflows the buffer, with malicious executable code or data after the end; when this payload is accessed it does what the attacker, not the legitimate software, determines.[75]\n",
       "\n",
       "Users and programs can be assigned more privileges than they require, and malware can take advantage of this.Malware, running as over-privileged code, can use this privilege to subvert the system.[83][84]\n",
       "\n",
       "Anti-malware (sometimes also called antivirus) programs block and remove some or all types of malware.The Windows Malicious Software Removal Tool removes malicious software from the system.[86][87][88]\n",
       "\n",
       "Typically, antivirus software can combat malware in the following ways:\n",
       "• Real-time protection: They can provide real time protection against the installation of malware software on a computer.This type of malware protection works the same way as that of antivirus protection in that the anti-malware software scans all incoming network data for malware and blocks any threats it comes across.• Removal: Anti-malware software programs can be used solely for detection and removal of malware software that has already been installed onto a computer.This type of anti-malware software scans the contents of the Windows registry, operating system files, and installed programs on a computer and will provide a list of any threats found, allowing the user to choose which files to delete or keep, or to compare this list to a list of known malware components, removing files that match.[90]\n",
       "\n",
       "A specific component of anti-malware software, commonly referred to as an on-access or real-time scanner, hooks deep into the operating system's core or kernel and functions in a manner similar to how certain malware itself would attempt to operate, though with the user's informed permission for protecting the system.[91]\n",
       "\n",
       "Because many malware components are installed as a result of browser exploits or user error, using security software (some of which are anti-malware, though many are not) to \"sandbox\" browsers (essentially isolate the browser from the computer and hence any malware induced change) can also be effective in helping to restrict any damage done."
      ],
      "text/plain": [
       "<IPython.core.display.HTML object>"
      ]
     },
     "metadata": {},
     "output_type": "display_data"
    }
   ],
   "source": [
    "article = g.extract(url)\n",
    "formatted_article = preprocess(article.cleaned_text)\n",
    "sentence_list,best_sentences,score_=summarize_cosine(article.cleaned_text,120,0.2)\n",
    "visualse(article.title,sentence_list,best_sentences)"
   ]
  },
  {
   "cell_type": "code",
   "execution_count": null,
   "metadata": {},
   "outputs": [],
   "source": []
  }
 ],
 "metadata": {
  "kernelspec": {
   "display_name": "Python 3 (ipykernel)",
   "language": "python",
   "name": "python3"
  },
  "language_info": {
   "codemirror_mode": {
    "name": "ipython",
    "version": 3
   },
   "file_extension": ".py",
   "mimetype": "text/x-python",
   "name": "python",
   "nbconvert_exporter": "python",
   "pygments_lexer": "ipython3",
   "version": "3.9.13"
  },
  "vscode": {
   "interpreter": {
    "hash": "42b171173ad9a6425a1851a85c99dfaa75c3f35860be81137147b9d579bd7d49"
   }
  }
 },
 "nbformat": 4,
 "nbformat_minor": 4
}
